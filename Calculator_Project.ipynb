{
 "cells": [
  {
   "cell_type": "markdown",
   "id": "d5132ee1-9de7-494f-890d-9328eb601fa4",
   "metadata": {},
   "source": [
    "                       Calculator Project"
   ]
  },
  {
   "cell_type": "code",
   "execution_count": 2,
   "id": "af624dbf-8b80-48e7-8503-9e2b0a0c143a",
   "metadata": {},
   "outputs": [],
   "source": [
    "def add(x,y):\n",
    "    return x + y\n",
    "\n",
    "def subtract(x,y):\n",
    "    return x - y\n",
    "\n",
    "def multiply(x,y):\n",
    "    return x * y\n",
    "\n",
    "def divide(x,y):\n",
    "    return x / y\n",
    "\n"
   ]
  },
  {
   "cell_type": "code",
   "execution_count": 8,
   "id": "60d88f1e-02cd-4f9c-8165-7e097d2d8546",
   "metadata": {},
   "outputs": [
    {
     "name": "stdin",
     "output_type": "stream",
     "text": [
      "Enter Choice (A,S,M,D):  a\n",
      "Enter first number:  2\n",
      "Enter second number:  3\n"
     ]
    }
   ],
   "source": [
    "choice = input('Enter Choice (A,S,M,D): ') \n",
    "\n",
    "num1 = float(input('Enter first number: '))\n",
    "\n",
    "num2 = float(input('Enter second number: '))\n"
   ]
  },
  {
   "cell_type": "code",
   "execution_count": 58,
   "id": "eaabaf8e-09e9-4857-a444-dacecd5645e8",
   "metadata": {},
   "outputs": [
    {
     "name": "stdout",
     "output_type": "stream",
     "text": [
      "Enter 'A' for Addition.\n",
      "Enter 'S' for Subtraction.\n",
      "Enter 'M' for Mutiplication.\n",
      "Enter 'D' for Division.\n"
     ]
    },
    {
     "name": "stdin",
     "output_type": "stream",
     "text": [
      "Enter Choice (A,S,M,D):  hhjjhjh\n"
     ]
    },
    {
     "name": "stdout",
     "output_type": "stream",
     "text": [
      "Please input a correct choice.\n"
     ]
    },
    {
     "name": "stdin",
     "output_type": "stream",
     "text": [
      "Want to do another calculation? (yes/no?):  yes\n",
      "Enter Choice (A,S,M,D):  m\n",
      "Enter first number:  5454545\n",
      "Enter second number:  323\n"
     ]
    },
    {
     "name": "stdout",
     "output_type": "stream",
     "text": [
      "Result: 5454545.0 * 323.0 = 1761818035.0\n"
     ]
    },
    {
     "name": "stdin",
     "output_type": "stream",
     "text": [
      "Want to do another calculation? (yes/no?):  yes\n",
      "Enter Choice (A,S,M,D):  a\n",
      "Enter first number:  5555\n",
      "Enter second number:  556665656565656565656\n"
     ]
    },
    {
     "name": "stdout",
     "output_type": "stream",
     "text": [
      "Result: 5555.0 + 5.566656565656566e+20 = 5.566656565656566e+20\n"
     ]
    },
    {
     "name": "stdin",
     "output_type": "stream",
     "text": [
      "Want to do another calculation? (yes/no?):  no\n"
     ]
    }
   ],
   "source": [
    "print(\"Enter 'A' for Addition.\")\n",
    "print(\"Enter 'S' for Subtraction.\")\n",
    "print(\"Enter 'M' for Mutiplication.\")\n",
    "print(\"Enter 'D' for Division.\")\n",
    "\n",
    "\n",
    "while True:\n",
    "    choice = input('Enter Choice (A,S,M,D): ') \n",
    "    \n",
    "    if choice.upper() in ( 'A','ADD','ADDITION','S','SUBTRACT','SUBTRACTION','M','MULTIPLY','MULTIPLICATION','D','DIVIDE','DIVISION'):\n",
    "        num1 = float(input('Enter first number: '))\n",
    "        num2 = float(input('Enter second number: '))\n",
    "    \n",
    "        if choice.upper() in ('A','ADD','ADDITION'):\n",
    "          print('Result:',num1, '+' , num2, '=',add(num1,num2))\n",
    "    \n",
    "        elif choice.upper() in ('S','SUBTRACT','SUBTRACTION'):\n",
    "          print('Result:',num1, '-' , num2, '=', subtract(num1,num2))\n",
    "    \n",
    "        elif choice.upper() in ('M','MULTIPLY','MULTIPLICATION'):\n",
    "          print('Result:',num1, '*' , num2, '=', multiply(num1,num2))\n",
    "    \n",
    "        elif choice.upper() in ('D','DIVIDE','DIVISION'):\n",
    "          print('Result:',num1, '/' , num2, '=', divide(num1,num2))\n",
    "    \n",
    "    else:\n",
    "        print(\"Please input a correct choice.\")\n",
    "\n",
    "    next_calculation = input(\"Want to do another calculation? (yes/no?): \")\n",
    "    if next_calculation.lower() in ('no','n','nope'):\n",
    "        break \n"
   ]
  },
  {
   "cell_type": "code",
   "execution_count": null,
   "id": "2a17a81a-298e-474e-8a87-343038c95184",
   "metadata": {},
   "outputs": [],
   "source": []
  },
  {
   "cell_type": "code",
   "execution_count": null,
   "id": "00f27d31-939e-47cd-b4be-b21449340d3c",
   "metadata": {},
   "outputs": [],
   "source": []
  },
  {
   "cell_type": "code",
   "execution_count": null,
   "id": "c697ec20-fb32-4086-aae8-caa39f011088",
   "metadata": {},
   "outputs": [],
   "source": []
  },
  {
   "cell_type": "code",
   "execution_count": null,
   "id": "e04cf6c1-b700-4bcd-900b-59a7836d1aea",
   "metadata": {},
   "outputs": [],
   "source": []
  },
  {
   "cell_type": "code",
   "execution_count": null,
   "id": "581190a7-a972-43f5-861e-7d1b89d41475",
   "metadata": {},
   "outputs": [],
   "source": []
  },
  {
   "cell_type": "code",
   "execution_count": null,
   "id": "3c46fd17-c798-4fda-8fcd-1e6f39e9e6a2",
   "metadata": {},
   "outputs": [],
   "source": []
  },
  {
   "cell_type": "code",
   "execution_count": null,
   "id": "c7602c62-8e19-4627-8da3-902ebd6ba859",
   "metadata": {},
   "outputs": [],
   "source": []
  },
  {
   "cell_type": "code",
   "execution_count": null,
   "id": "e55b46d1-2406-4330-8f99-84fd896362e2",
   "metadata": {},
   "outputs": [],
   "source": []
  },
  {
   "cell_type": "code",
   "execution_count": null,
   "id": "dfe7fb1c-89af-4e2b-9912-62fde970caca",
   "metadata": {},
   "outputs": [],
   "source": []
  },
  {
   "cell_type": "code",
   "execution_count": null,
   "id": "293c01ad-16a4-44ab-8e1d-79efa3aa3a5e",
   "metadata": {},
   "outputs": [],
   "source": []
  }
 ],
 "metadata": {
  "kernelspec": {
   "display_name": "Python 3 (ipykernel)",
   "language": "python",
   "name": "python3"
  },
  "language_info": {
   "codemirror_mode": {
    "name": "ipython",
    "version": 3
   },
   "file_extension": ".py",
   "mimetype": "text/x-python",
   "name": "python",
   "nbconvert_exporter": "python",
   "pygments_lexer": "ipython3",
   "version": "3.12.4"
  }
 },
 "nbformat": 4,
 "nbformat_minor": 5
}
